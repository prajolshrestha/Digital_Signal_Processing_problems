{
  "nbformat": 4,
  "nbformat_minor": 0,
  "metadata": {
    "colab": {
      "provenance": [],
      "toc_visible": true
    },
    "kernelspec": {
      "name": "python3",
      "display_name": "Python 3"
    },
    "language_info": {
      "name": "python"
    }
  },
  "cells": [
    {
      "cell_type": "code",
      "execution_count": 1,
      "metadata": {
        "colab": {
          "base_uri": "https://localhost:8080/"
        },
        "id": "DAvFUdS2nsX4",
        "outputId": "11563146-7820-4213-da7c-cab79c5f5849"
      },
      "outputs": [
        {
          "output_type": "stream",
          "name": "stdout",
          "text": [
            "Collecting pulp\n",
            "  Downloading PuLP-2.7.0-py3-none-any.whl (14.3 MB)\n",
            "\u001b[2K     \u001b[90m━━━━━━━━━━━━━━━━━━━━━━━━━━━━━━━━━━━━━━━━\u001b[0m \u001b[32m14.3/14.3 MB\u001b[0m \u001b[31m24.2 MB/s\u001b[0m eta \u001b[36m0:00:00\u001b[0m\n",
            "\u001b[?25hInstalling collected packages: pulp\n",
            "Successfully installed pulp-2.7.0\n"
          ]
        }
      ],
      "source": [
        "!pip install pulp"
      ]
    },
    {
      "cell_type": "code",
      "source": [
        "from pulp import *"
      ],
      "metadata": {
        "id": "mKDU3gX9n4ER"
      },
      "execution_count": 2,
      "outputs": []
    },
    {
      "cell_type": "markdown",
      "source": [
        "# Data"
      ],
      "metadata": {
        "id": "UZT_wR2ropDJ"
      }
    },
    {
      "cell_type": "code",
      "source": [
        "n = 8\n",
        "weights = [4,2,8,3,7,5,9,6]\n",
        "prices = [19,17,30,13,25,29,23,10]\n",
        "carry_weights = 17"
      ],
      "metadata": {
        "id": "4PzZJF6Qn8f1"
      },
      "execution_count": 3,
      "outputs": []
    },
    {
      "cell_type": "markdown",
      "source": [
        "# Problem Formulation"
      ],
      "metadata": {
        "id": "1e4EsqPioq9e"
      }
    },
    {
      "cell_type": "code",
      "source": [
        "model = LpProblem(sense = LpMaximize)\n",
        "variables = [LpVariable(name=f\"x_{i}\", cat = LpBinary) for i in range(n)] # variable banako x_0 to x_7\n",
        "model += lpDot(weights,variables) <= carry_weights # subject to\n",
        "model += lpDot(prices,variables) # objective function"
      ],
      "metadata": {
        "id": "KEC8lv8ioMga"
      },
      "execution_count": 6,
      "outputs": []
    },
    {
      "cell_type": "markdown",
      "source": [
        "# Solve"
      ],
      "metadata": {
        "id": "heS2EW87qay-"
      }
    },
    {
      "cell_type": "code",
      "source": [
        "status = model.solve(PULP_CBC_CMD(msg = False))\n",
        "print(\"Price: \", model.objective.value())\n",
        "print(\"Take: \", [variables[i].value() for i in range(n)])"
      ],
      "metadata": {
        "colab": {
          "base_uri": "https://localhost:8080/"
        },
        "id": "zPRyYI_ypfkA",
        "outputId": "1d79de9e-b2e2-4a92-cf24-c3658f0f343c"
      },
      "execution_count": 8,
      "outputs": [
        {
          "output_type": "stream",
          "name": "stdout",
          "text": [
            "Price:  84.0\n",
            "Take:  [0.0, 1.0, 0.0, 1.0, 1.0, 1.0, 0.0, 0.0]\n"
          ]
        }
      ]
    }
  ]
}